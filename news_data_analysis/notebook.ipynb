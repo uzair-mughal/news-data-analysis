{
 "cells": [
  {
   "cell_type": "code",
   "execution_count": 9,
   "metadata": {},
   "outputs": [],
   "source": [
    "import os\n",
    "import glob\n",
    "import pandas as pd"
   ]
  },
  {
   "attachments": {},
   "cell_type": "markdown",
   "metadata": {},
   "source": [
    "# path config"
   ]
  },
  {
   "cell_type": "code",
   "execution_count": 8,
   "metadata": {},
   "outputs": [],
   "source": [
    "cwd = os.path.join(os.getcwd() + os.sep + os.pardir)\n",
    "data_path = os.path.join(cwd, 'data')"
   ]
  },
  {
   "cell_type": "code",
   "execution_count": 11,
   "metadata": {},
   "outputs": [
    {
     "data": {
      "text/plain": [
       "'/home/uzair/github/news-data-analysis/new_data_analysis/../data/*csv'"
      ]
     },
     "execution_count": 11,
     "metadata": {},
     "output_type": "execute_result"
    }
   ],
   "source": [
    "os.path.join(data_path, '*csv')"
   ]
  },
  {
   "attachments": {},
   "cell_type": "markdown",
   "metadata": {},
   "source": [
    "# reading csvs"
   ]
  },
  {
   "cell_type": "code",
   "execution_count": 15,
   "metadata": {},
   "outputs": [],
   "source": [
    "dfs = [pd.read_csv(csv) for csv in glob.glob(os.path.join(data_path, '*csv'))]"
   ]
  },
  {
   "cell_type": "code",
   "execution_count": 16,
   "metadata": {},
   "outputs": [
    {
     "data": {
      "text/html": [
       "<div>\n",
       "<style scoped>\n",
       "    .dataframe tbody tr th:only-of-type {\n",
       "        vertical-align: middle;\n",
       "    }\n",
       "\n",
       "    .dataframe tbody tr th {\n",
       "        vertical-align: top;\n",
       "    }\n",
       "\n",
       "    .dataframe thead th {\n",
       "        text-align: right;\n",
       "    }\n",
       "</style>\n",
       "<table border=\"1\" class=\"dataframe\">\n",
       "  <thead>\n",
       "    <tr style=\"text-align: right;\">\n",
       "      <th></th>\n",
       "      <th>title</th>\n",
       "      <th>text</th>\n",
       "      <th>published_date</th>\n",
       "    </tr>\n",
       "  </thead>\n",
       "  <tbody>\n",
       "    <tr>\n",
       "      <th>0</th>\n",
       "      <td>Even as many stay open, small businesses are f...</td>\n",
       "      <td>Small businesses around the country are feelin...</td>\n",
       "      <td>None</td>\n",
       "    </tr>\n",
       "    <tr>\n",
       "      <th>1</th>\n",
       "      <td>Oceanside Economic News: 2021 Business Opening...</td>\n",
       "      <td>Business Oceanside Economic News: 2021 Busines...</td>\n",
       "      <td>2022-01-02 00:39:58+00:00</td>\n",
       "    </tr>\n",
       "    <tr>\n",
       "      <th>2</th>\n",
       "      <td>2021’s Top Stories: Local entrepreneurs eye Mo...</td>\n",
       "      <td>Country\\n\\nUnited States of America US Virgin ...</td>\n",
       "      <td>None</td>\n",
       "    </tr>\n",
       "    <tr>\n",
       "      <th>3</th>\n",
       "      <td>US companies are thriving despite the pandemic...</td>\n",
       "      <td>Nearly two years after the coronavirus pandemi...</td>\n",
       "      <td>None</td>\n",
       "    </tr>\n",
       "    <tr>\n",
       "      <th>4</th>\n",
       "      <td>Box Office Ends Year 60 Percent Behind 2019 Wi...</td>\n",
       "      <td>Facing strong headwinds, domestic box office r...</td>\n",
       "      <td>2022-01-01 18:54:44+00:00</td>\n",
       "    </tr>\n",
       "    <tr>\n",
       "      <th>...</th>\n",
       "      <td>...</td>\n",
       "      <td>...</td>\n",
       "      <td>...</td>\n",
       "    </tr>\n",
       "    <tr>\n",
       "      <th>110</th>\n",
       "      <td>New Year's Resolution? Here's How to Make it S...</td>\n",
       "      <td>SATURDAY, Jan. 1, 2022 (HealthDay News) -- It’...</td>\n",
       "      <td>2022-01-01 14:00:00+00:00</td>\n",
       "    </tr>\n",
       "    <tr>\n",
       "      <th>111</th>\n",
       "      <td>Jimmy and Rosalynn Carter ring in 2022 in style</td>\n",
       "      <td>11Alive Anchor Jeff Hullinger shared a picture...</td>\n",
       "      <td>2022-01-01 11:48:00</td>\n",
       "    </tr>\n",
       "    <tr>\n",
       "      <th>112</th>\n",
       "      <td>First baby of the year 2022 born at the MUHC: ...</td>\n",
       "      <td>MONTREAL, January 1, 2022 – New Year's good ne...</td>\n",
       "      <td>None</td>\n",
       "    </tr>\n",
       "    <tr>\n",
       "      <th>113</th>\n",
       "      <td>Rose Bowl returns to Pasadena</td>\n",
       "      <td>PASADENA, Calif. — The Rose Bowl made a triump...</td>\n",
       "      <td>2022-01-02 04:09:29+00:00</td>\n",
       "    </tr>\n",
       "    <tr>\n",
       "      <th>114</th>\n",
       "      <td>SPASH Girls Fall to Freedom</td>\n",
       "      <td>Emma Jossie had 22 points to lead SPASH, in th...</td>\n",
       "      <td>2022-01-01 13:07:59+00:00</td>\n",
       "    </tr>\n",
       "  </tbody>\n",
       "</table>\n",
       "<p>115 rows × 3 columns</p>\n",
       "</div>"
      ],
      "text/plain": [
       "                                                 title  \\\n",
       "0    Even as many stay open, small businesses are f...   \n",
       "1    Oceanside Economic News: 2021 Business Opening...   \n",
       "2    2021’s Top Stories: Local entrepreneurs eye Mo...   \n",
       "3    US companies are thriving despite the pandemic...   \n",
       "4    Box Office Ends Year 60 Percent Behind 2019 Wi...   \n",
       "..                                                 ...   \n",
       "110  New Year's Resolution? Here's How to Make it S...   \n",
       "111    Jimmy and Rosalynn Carter ring in 2022 in style   \n",
       "112  First baby of the year 2022 born at the MUHC: ...   \n",
       "113                      Rose Bowl returns to Pasadena   \n",
       "114                        SPASH Girls Fall to Freedom   \n",
       "\n",
       "                                                  text  \\\n",
       "0    Small businesses around the country are feelin...   \n",
       "1    Business Oceanside Economic News: 2021 Busines...   \n",
       "2    Country\\n\\nUnited States of America US Virgin ...   \n",
       "3    Nearly two years after the coronavirus pandemi...   \n",
       "4    Facing strong headwinds, domestic box office r...   \n",
       "..                                                 ...   \n",
       "110  SATURDAY, Jan. 1, 2022 (HealthDay News) -- It’...   \n",
       "111  11Alive Anchor Jeff Hullinger shared a picture...   \n",
       "112  MONTREAL, January 1, 2022 – New Year's good ne...   \n",
       "113  PASADENA, Calif. — The Rose Bowl made a triump...   \n",
       "114  Emma Jossie had 22 points to lead SPASH, in th...   \n",
       "\n",
       "                published_date  \n",
       "0                         None  \n",
       "1    2022-01-02 00:39:58+00:00  \n",
       "2                         None  \n",
       "3                         None  \n",
       "4    2022-01-01 18:54:44+00:00  \n",
       "..                         ...  \n",
       "110  2022-01-01 14:00:00+00:00  \n",
       "111        2022-01-01 11:48:00  \n",
       "112                       None  \n",
       "113  2022-01-02 04:09:29+00:00  \n",
       "114  2022-01-01 13:07:59+00:00  \n",
       "\n",
       "[115 rows x 3 columns]"
      ]
     },
     "execution_count": 16,
     "metadata": {},
     "output_type": "execute_result"
    }
   ],
   "source": [
    "dfs[0]"
   ]
  },
  {
   "cell_type": "code",
   "execution_count": null,
   "metadata": {},
   "outputs": [],
   "source": []
  }
 ],
 "metadata": {
  "kernelspec": {
   "display_name": "news-analysis",
   "language": "python",
   "name": "python3"
  },
  "language_info": {
   "codemirror_mode": {
    "name": "ipython",
    "version": 3
   },
   "file_extension": ".py",
   "mimetype": "text/x-python",
   "name": "python",
   "nbconvert_exporter": "python",
   "pygments_lexer": "ipython3",
   "version": "3.10.9"
  },
  "orig_nbformat": 4,
  "vscode": {
   "interpreter": {
    "hash": "f39b3d7ad5dc7740504dfc2fc0eb75acbe93b8d636a383d0173cbfb5633a02fe"
   }
  }
 },
 "nbformat": 4,
 "nbformat_minor": 2
}
