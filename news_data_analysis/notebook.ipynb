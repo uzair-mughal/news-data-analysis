{
 "cells": [
  {
   "cell_type": "code",
   "execution_count": 1,
   "metadata": {},
   "outputs": [],
   "source": [
    "import os\n",
    "import glob\n",
    "import pandas as pd"
   ]
  },
  {
   "attachments": {},
   "cell_type": "markdown",
   "metadata": {},
   "source": [
    "# path config"
   ]
  },
  {
   "cell_type": "code",
   "execution_count": 2,
   "metadata": {},
   "outputs": [],
   "source": [
    "cwd = os.path.join(os.getcwd() + os.sep + os.pardir)\n",
    "data_path = os.path.join(cwd, 'data')"
   ]
  },
  {
   "attachments": {},
   "cell_type": "markdown",
   "metadata": {},
   "source": [
    "# reading csvs"
   ]
  },
  {
   "cell_type": "code",
   "execution_count": 4,
   "metadata": {},
   "outputs": [],
   "source": [
    "dfs = [pd.read_csv(csv) for csv in glob.glob(os.path.join(data_path, '*csv'))]"
   ]
  },
  {
   "cell_type": "code",
   "execution_count": 6,
   "metadata": {},
   "outputs": [
    {
     "data": {
      "text/html": [
       "<div>\n",
       "<style scoped>\n",
       "    .dataframe tbody tr th:only-of-type {\n",
       "        vertical-align: middle;\n",
       "    }\n",
       "\n",
       "    .dataframe tbody tr th {\n",
       "        vertical-align: top;\n",
       "    }\n",
       "\n",
       "    .dataframe thead th {\n",
       "        text-align: right;\n",
       "    }\n",
       "</style>\n",
       "<table border=\"1\" class=\"dataframe\">\n",
       "  <thead>\n",
       "    <tr style=\"text-align: right;\">\n",
       "      <th></th>\n",
       "      <th>title</th>\n",
       "      <th>text</th>\n",
       "      <th>published_date</th>\n",
       "    </tr>\n",
       "  </thead>\n",
       "  <tbody>\n",
       "    <tr>\n",
       "      <th>0</th>\n",
       "      <td>Business Beat: A look back at some of the Long...</td>\n",
       "      <td>Jo Lee Ferguson wishes she kept her maiden nam...</td>\n",
       "      <td>None</td>\n",
       "    </tr>\n",
       "    <tr>\n",
       "      <th>1</th>\n",
       "      <td>Oceanside Economic News: 2021 Business Opening...</td>\n",
       "      <td>Business Oceanside Economic News: 2021 Busines...</td>\n",
       "      <td>2022-01-02 00:39:58+00:00</td>\n",
       "    </tr>\n",
       "    <tr>\n",
       "      <th>2</th>\n",
       "      <td>US companies are thriving despite the pandemic...</td>\n",
       "      <td>Nearly two years after the coronavirus pandemi...</td>\n",
       "      <td>None</td>\n",
       "    </tr>\n",
       "    <tr>\n",
       "      <th>3</th>\n",
       "      <td>16-year-old student athlete starts small business</td>\n",
       "      <td>16-year-old student athlete starts small busin...</td>\n",
       "      <td>2022-01-01 22:09:00+00:00</td>\n",
       "    </tr>\n",
       "    <tr>\n",
       "      <th>4</th>\n",
       "      <td>To make your financial New Year's resolutions ...</td>\n",
       "      <td>MilosStankovic | E+ | Getty Images\\n\\nPeople h...</td>\n",
       "      <td>2022-01-01 00:00:00</td>\n",
       "    </tr>\n",
       "    <tr>\n",
       "      <th>...</th>\n",
       "      <td>...</td>\n",
       "      <td>...</td>\n",
       "      <td>...</td>\n",
       "    </tr>\n",
       "    <tr>\n",
       "      <th>29228</th>\n",
       "      <td>NaN</td>\n",
       "      <td>NaN</td>\n",
       "      <td>None</td>\n",
       "    </tr>\n",
       "    <tr>\n",
       "      <th>29229</th>\n",
       "      <td>With Polio On The Rise, Local Health Leaders R...</td>\n",
       "      <td>“I would like to provide an update that there ...</td>\n",
       "      <td>None</td>\n",
       "    </tr>\n",
       "    <tr>\n",
       "      <th>29230</th>\n",
       "      <td>International News: Mexican child allegedly bu...</td>\n",
       "      <td>Posted: Saturday, July 30, 2022. 10:47 am CST....</td>\n",
       "      <td>2022-07-30 00:00:00</td>\n",
       "    </tr>\n",
       "    <tr>\n",
       "      <th>29231</th>\n",
       "      <td>A new way to address mental health issues in c...</td>\n",
       "      <td>PITTSBURGH (KDKA) - Amid all of the violence a...</td>\n",
       "      <td>None</td>\n",
       "    </tr>\n",
       "    <tr>\n",
       "      <th>29232</th>\n",
       "      <td>CWA, 1199SEIU Union healthcare workers at Kale...</td>\n",
       "      <td>Their contracts will not be extended past Sund...</td>\n",
       "      <td>2022-07-30 17:32:00</td>\n",
       "    </tr>\n",
       "  </tbody>\n",
       "</table>\n",
       "<p>29233 rows × 3 columns</p>\n",
       "</div>"
      ],
      "text/plain": [
       "                                                   title  \\\n",
       "0      Business Beat: A look back at some of the Long...   \n",
       "1      Oceanside Economic News: 2021 Business Opening...   \n",
       "2      US companies are thriving despite the pandemic...   \n",
       "3      16-year-old student athlete starts small business   \n",
       "4      To make your financial New Year's resolutions ...   \n",
       "...                                                  ...   \n",
       "29228                                                NaN   \n",
       "29229  With Polio On The Rise, Local Health Leaders R...   \n",
       "29230  International News: Mexican child allegedly bu...   \n",
       "29231  A new way to address mental health issues in c...   \n",
       "29232  CWA, 1199SEIU Union healthcare workers at Kale...   \n",
       "\n",
       "                                                    text  \\\n",
       "0      Jo Lee Ferguson wishes she kept her maiden nam...   \n",
       "1      Business Oceanside Economic News: 2021 Busines...   \n",
       "2      Nearly two years after the coronavirus pandemi...   \n",
       "3      16-year-old student athlete starts small busin...   \n",
       "4      MilosStankovic | E+ | Getty Images\\n\\nPeople h...   \n",
       "...                                                  ...   \n",
       "29228                                                NaN   \n",
       "29229  “I would like to provide an update that there ...   \n",
       "29230  Posted: Saturday, July 30, 2022. 10:47 am CST....   \n",
       "29231  PITTSBURGH (KDKA) - Amid all of the violence a...   \n",
       "29232  Their contracts will not be extended past Sund...   \n",
       "\n",
       "                  published_date  \n",
       "0                           None  \n",
       "1      2022-01-02 00:39:58+00:00  \n",
       "2                           None  \n",
       "3      2022-01-01 22:09:00+00:00  \n",
       "4            2022-01-01 00:00:00  \n",
       "...                          ...  \n",
       "29228                       None  \n",
       "29229                       None  \n",
       "29230        2022-07-30 00:00:00  \n",
       "29231                       None  \n",
       "29232        2022-07-30 17:32:00  \n",
       "\n",
       "[29233 rows x 3 columns]"
      ]
     },
     "execution_count": 6,
     "metadata": {},
     "output_type": "execute_result"
    }
   ],
   "source": [
    "dfs[0]"
   ]
  },
  {
   "cell_type": "code",
   "execution_count": null,
   "metadata": {},
   "outputs": [],
   "source": []
  }
 ],
 "metadata": {
  "kernelspec": {
   "display_name": "news-analysis",
   "language": "python",
   "name": "python3"
  },
  "language_info": {
   "codemirror_mode": {
    "name": "ipython",
    "version": 3
   },
   "file_extension": ".py",
   "mimetype": "text/x-python",
   "name": "python",
   "nbconvert_exporter": "python",
   "pygments_lexer": "ipython3",
   "version": "3.10.9"
  },
  "orig_nbformat": 4,
  "vscode": {
   "interpreter": {
    "hash": "f39b3d7ad5dc7740504dfc2fc0eb75acbe93b8d636a383d0173cbfb5633a02fe"
   }
  }
 },
 "nbformat": 4,
 "nbformat_minor": 2
}
